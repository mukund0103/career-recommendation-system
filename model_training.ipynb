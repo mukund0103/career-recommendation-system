{
 "cells": [
  {
   "cell_type": "code",
   "execution_count": 1,
   "id": "b9044e67",
   "metadata": {},
   "outputs": [],
   "source": [
    "import pandas as pd\n",
    "from sklearn.preprocessing import LabelEncoder\n",
    "from sklearn.preprocessing import MultiLabelBinarizer,LabelEncoder\n",
    "from sklearn.ensemble import RandomForestClassifier\n",
    "from sklearn.model_selection import train_test_split\n",
    "from sklearn.metrics import accuracy_score, classification_report\n",
    "from sklearn.model_selection import GridSearchCV\n",
    "from imblearn.over_sampling import SMOTE\n",
    "import numpy as np\n",
    "import joblib\n"
   ]
  },
  {
   "cell_type": "code",
   "execution_count": 2,
   "id": "094089e7",
   "metadata": {},
   "outputs": [
    {
     "name": "stdout",
     "output_type": "stream",
     "text": [
      "<class 'pandas.core.frame.DataFrame'>\n",
      "RangeIndex: 200 entries, 0 to 199\n",
      "Data columns (total 8 columns):\n",
      " #   Column                Non-Null Count  Dtype  \n",
      "---  ------                --------------  -----  \n",
      " 0   CandidateID           200 non-null    int64  \n",
      " 1   Name                  200 non-null    object \n",
      " 2   Age                   200 non-null    int64  \n",
      " 3   Education             200 non-null    object \n",
      " 4   Skills                200 non-null    object \n",
      " 5   Interests             200 non-null    object \n",
      " 6   Recommended_Career    200 non-null    object \n",
      " 7   Recommendation_Score  200 non-null    float64\n",
      "dtypes: float64(1), int64(2), object(5)\n",
      "memory usage: 12.6+ KB\n"
     ]
    },
    {
     "data": {
      "text/html": [
       "<div>\n",
       "<style scoped>\n",
       "    .dataframe tbody tr th:only-of-type {\n",
       "        vertical-align: middle;\n",
       "    }\n",
       "\n",
       "    .dataframe tbody tr th {\n",
       "        vertical-align: top;\n",
       "    }\n",
       "\n",
       "    .dataframe thead th {\n",
       "        text-align: right;\n",
       "    }\n",
       "</style>\n",
       "<table border=\"1\" class=\"dataframe\">\n",
       "  <thead>\n",
       "    <tr style=\"text-align: right;\">\n",
       "      <th></th>\n",
       "      <th>CandidateID</th>\n",
       "      <th>Name</th>\n",
       "      <th>Age</th>\n",
       "      <th>Education</th>\n",
       "      <th>Skills</th>\n",
       "      <th>Interests</th>\n",
       "      <th>Recommended_Career</th>\n",
       "      <th>Recommendation_Score</th>\n",
       "    </tr>\n",
       "  </thead>\n",
       "  <tbody>\n",
       "    <tr>\n",
       "      <th>0</th>\n",
       "      <td>1</td>\n",
       "      <td>John Doe</td>\n",
       "      <td>28</td>\n",
       "      <td>Bachelor's</td>\n",
       "      <td>Python;Data Analysis;Machine Learning</td>\n",
       "      <td>Technology;Data Science</td>\n",
       "      <td>Data Scientist</td>\n",
       "      <td>0.95</td>\n",
       "    </tr>\n",
       "    <tr>\n",
       "      <th>1</th>\n",
       "      <td>2</td>\n",
       "      <td>Jane Smith</td>\n",
       "      <td>32</td>\n",
       "      <td>Master's</td>\n",
       "      <td>Java;System Design;Cloud Computing</td>\n",
       "      <td>Software Development;AI</td>\n",
       "      <td>Software Engineer</td>\n",
       "      <td>0.90</td>\n",
       "    </tr>\n",
       "    <tr>\n",
       "      <th>2</th>\n",
       "      <td>3</td>\n",
       "      <td>Bob Johnson</td>\n",
       "      <td>24</td>\n",
       "      <td>Bachelor's</td>\n",
       "      <td>Graphic Design;UI/UX;Adobe Creative Suite</td>\n",
       "      <td>Arts;Digital Media</td>\n",
       "      <td>UX Designer</td>\n",
       "      <td>0.88</td>\n",
       "    </tr>\n",
       "    <tr>\n",
       "      <th>3</th>\n",
       "      <td>4</td>\n",
       "      <td>Emily Davis</td>\n",
       "      <td>26</td>\n",
       "      <td>Bachelor's</td>\n",
       "      <td>Python;Deep Learning;Statistics</td>\n",
       "      <td>Healthcare;AI</td>\n",
       "      <td>AI Researcher</td>\n",
       "      <td>0.93</td>\n",
       "    </tr>\n",
       "    <tr>\n",
       "      <th>4</th>\n",
       "      <td>5</td>\n",
       "      <td>Michael Brown</td>\n",
       "      <td>30</td>\n",
       "      <td>Master's</td>\n",
       "      <td>Project Management;Communication;Agile</td>\n",
       "      <td>Business;Management</td>\n",
       "      <td>Project Manager</td>\n",
       "      <td>0.87</td>\n",
       "    </tr>\n",
       "  </tbody>\n",
       "</table>\n",
       "</div>"
      ],
      "text/plain": [
       "   CandidateID           Name  Age   Education  \\\n",
       "0            1       John Doe   28  Bachelor's   \n",
       "1            2     Jane Smith   32    Master's   \n",
       "2            3    Bob Johnson   24  Bachelor's   \n",
       "3            4    Emily Davis   26  Bachelor's   \n",
       "4            5  Michael Brown   30    Master's   \n",
       "\n",
       "                                      Skills                Interests  \\\n",
       "0      Python;Data Analysis;Machine Learning  Technology;Data Science   \n",
       "1         Java;System Design;Cloud Computing  Software Development;AI   \n",
       "2  Graphic Design;UI/UX;Adobe Creative Suite       Arts;Digital Media   \n",
       "3            Python;Deep Learning;Statistics            Healthcare;AI   \n",
       "4     Project Management;Communication;Agile      Business;Management   \n",
       "\n",
       "  Recommended_Career  Recommendation_Score  \n",
       "0     Data Scientist                  0.95  \n",
       "1  Software Engineer                  0.90  \n",
       "2        UX Designer                  0.88  \n",
       "3      AI Researcher                  0.93  \n",
       "4    Project Manager                  0.87  "
      ]
     },
     "execution_count": 2,
     "metadata": {},
     "output_type": "execute_result"
    }
   ],
   "source": [
    "\n",
    "df = pd.read_csv(\"career_dataset.csv\")\n",
    "\n",
    "df.info()\n",
    "df.head()"
   ]
  },
  {
   "cell_type": "code",
   "execution_count": 3,
   "id": "b8c7e3f7",
   "metadata": {},
   "outputs": [
    {
     "name": "stdout",
     "output_type": "stream",
     "text": [
      "['CandidateID', 'Name', 'Age', 'Education', 'Skills', 'Interests', 'Recommended_Career', 'Recommendation_Score']\n"
     ]
    }
   ],
   "source": [
    "df.describe()\n",
    "print(df.columns.tolist())\n"
   ]
  },
  {
   "cell_type": "code",
   "execution_count": 4,
   "id": "b49bb86b",
   "metadata": {},
   "outputs": [],
   "source": [
    "df = df.drop(columns=[\"CandidateID\", \"Name\", \"Recommendation_Score\"])\n",
    "# ✅ Normalize Age\n",
    "from sklearn.preprocessing import StandardScaler\n",
    "\n",
    "scaler = StandardScaler()\n",
    "df['Age'] = scaler.fit_transform(df[['Age']])\n",
    "\n",
    "# ✅ Create Age Groups for categorical pattern analysis\n",
    "df['AgeGroup'] = pd.cut(df['Age'], bins=[-np.inf, -1, 0, 1, np.inf], labels=['<20', '20-25', '26-30', '30+'])\n",
    "\n",
    "# ✅ One-hot encode AgeGroup and Education\n",
    "df = pd.get_dummies(df, columns=['AgeGroup', 'Education'])\n",
    "\n",
    "# ✅ Proceed with the cleaned data for training/testing\n",
    "\n"
   ]
  },
  {
   "cell_type": "code",
   "execution_count": 5,
   "id": "f5fe5248",
   "metadata": {},
   "outputs": [],
   "source": [
    "import pandas as pd\n",
    "from sklearn.preprocessing import MultiLabelBinarizer, LabelEncoder\n",
    "from sklearn.model_selection import train_test_split\n",
    "\n",
    "# ✅ Make sure column names don't have extra spaces\n",
    "df.columns = df.columns.str.strip()\n",
    "\n",
    "# ✅ Convert 'Skills' and 'Interests' to list format\n",
    "df[\"Skills\"] = df[\"Skills\"].astype(str).apply(lambda x: [i.strip() for i in x.split(';')])\n",
    "df[\"Interests\"] = df[\"Interests\"].astype(str).apply(lambda x: [i.strip() for i in x.split(';')])\n",
    "\n",
    "# ✅ MultiLabelBinarizer for one-hot encoding\n",
    "mlb_skills = MultiLabelBinarizer()\n",
    "mlb_interests = MultiLabelBinarizer()\n",
    "\n",
    "skills_encoded = pd.DataFrame(\n",
    "    mlb_skills.fit_transform(df[\"Skills\"]),\n",
    "    columns=[\"skill_\" + col for col in mlb_skills.classes_]\n",
    ")\n",
    "\n",
    "interests_encoded = pd.DataFrame(\n",
    "    mlb_interests.fit_transform(df[\"Interests\"]),\n",
    "    columns=[\"interest_\" + col for col in mlb_interests.classes_]\n",
    ")\n",
    "\n",
    "# ✅ Merge encoded features with original DataFrame\n",
    "df = pd.concat([df, skills_encoded, interests_encoded], axis=1)\n",
    "\n",
    "# ✅ Drop original text-based columns\n",
    "df.drop(columns=[\"Skills\", \"Interests\"], inplace=True)\n",
    "\n",
    "# ✅ Remove conflicting combinations\n",
    "#group_cols = [\"Education\"] + list(skills_encoded.columns) + list(interests_encoded.columns)\n",
    "group_cols = [\"Education\"] + list(skills_encoded.columns) + list(interests_encoded.columns)\n",
    "education_cols = [col for col in df.columns if col.startswith('Education_')]\n",
    "skill_cols = list(skills_encoded.columns)\n",
    "interest_cols = list(interests_encoded.columns)\n",
    "group_cols = education_cols + skill_cols + interest_cols\n",
    "\n",
    "grouped = df.groupby(group_cols)[\"Recommended_Career\"].nunique()\n",
    "conflicting_combinations = grouped[grouped > 1].index\n",
    "mask = df.set_index(group_cols).index.isin(conflicting_combinations)\n",
    "df_cleaned = df[~mask].reset_index(drop=True)\n",
    "\n",
    "# ✅ Encode target label\n",
    "label_encoder = LabelEncoder()\n",
    "df_cleaned[\"Recommended_Career\"] = label_encoder.fit_transform(df_cleaned[\"Recommended_Career\"])\n",
    "\n",
    "# ✅ Separate features and target\n",
    "#X = df_cleaned.drop(columns=[\"Recommended_Career\", \"Name\", \"CandidateID\"], errors='ignore')\n",
    "#y = df_cleaned[\"Recommended_Career\"]\n",
    "X = df_cleaned.drop(columns=['CandidateID', 'Name', 'Recommended_Career', 'Recommendation_Score'], errors='ignore')\n",
    "\n",
    "y = df_cleaned['Recommended_Career']\n",
    "\n",
    "\n",
    "\n",
    "\n",
    "# ✅ Split into train/test sets\n",
    "X_train, X_test, y_train, y_test = train_test_split(X, y, test_size=0.2, random_state=42)\n"
   ]
  },
  {
   "cell_type": "code",
   "execution_count": 7,
   "id": "0d8b7e1b",
   "metadata": {},
   "outputs": [
    {
     "name": "stdout",
     "output_type": "stream",
     "text": [
      "🎯 Model Accuracy  0.77\n"
     ]
    },
    {
     "data": {
      "text/plain": [
       "['feature_names.joblib']"
      ]
     },
     "execution_count": 7,
     "metadata": {},
     "output_type": "execute_result"
    }
   ],
   "source": [
    " #✅ Step 10: Handle imbalance using SMOTE\n",
    "#smote = SMOTE(random_state=42)\n",
    "#X_resampled, y_resampled = smote.fit_resample(X_train, y_train)\n",
    "\n",
    "# ✅ Step 11: Train RandomForestClassifier\n",
    "# After splitting X and y and training model\n",
    "model = RandomForestClassifier(n_estimators=100, random_state=42)\n",
    "model.fit(X_train, y_train)\n",
    "\n",
    "# Evaluate\n",
    "y_pred = model.predict(X_test)\n",
    "accuracy = accuracy_score(y_test, y_pred)\n",
    "print(f\"🎯 Model Accuracy  {accuracy:.2f}\")\n",
    "\n",
    "# Save model, encoders, and feature names\n",
    "joblib.dump(model, \"career_model.joblib\")\n",
    "joblib.dump(mlb_skills, \"mlb_skills.joblib\")\n",
    "joblib.dump(mlb_interests, \"mlb_interests.joblib\")\n",
    "joblib.dump(label_encoder, \"label_encoder.joblib\")\n",
    "joblib.dump(X.columns.tolist(), \"feature_names.joblib\")   # ✅ Save columns\n",
    "\n",
    "\n"
   ]
  },
  {
   "cell_type": "code",
   "execution_count": null,
   "id": "1b99f47a",
   "metadata": {},
   "outputs": [],
   "source": [
    "\n"
   ]
  },
  {
   "cell_type": "code",
   "execution_count": null,
   "id": "9ee85a1a",
   "metadata": {},
   "outputs": [],
   "source": []
  },
  {
   "cell_type": "code",
   "execution_count": null,
   "id": "b94f0aac",
   "metadata": {},
   "outputs": [],
   "source": []
  },
  {
   "cell_type": "code",
   "execution_count": null,
   "id": "a52bf480",
   "metadata": {},
   "outputs": [],
   "source": []
  }
 ],
 "metadata": {
  "kernelspec": {
   "display_name": "Python 3",
   "language": "python",
   "name": "python3"
  },
  "language_info": {
   "codemirror_mode": {
    "name": "ipython",
    "version": 3
   },
   "file_extension": ".py",
   "mimetype": "text/x-python",
   "name": "python",
   "nbconvert_exporter": "python",
   "pygments_lexer": "ipython3",
   "version": "3.12.2"
  }
 },
 "nbformat": 4,
 "nbformat_minor": 5
}
